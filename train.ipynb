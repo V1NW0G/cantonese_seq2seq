{
 "cells": [
  {
   "cell_type": "code",
   "execution_count": 13,
   "outputs": [
    {
     "name": "stdout",
     "output_type": "stream",
     "text": [
      "Requirement already satisfied: pandas in ./venv/lib/python3.10/site-packages (1.5.3)\r\n",
      "Requirement already satisfied: numpy>=1.21.0 in ./venv/lib/python3.10/site-packages (from pandas) (1.24.2)\r\n",
      "Requirement already satisfied: python-dateutil>=2.8.1 in ./venv/lib/python3.10/site-packages (from pandas) (2.8.2)\r\n",
      "Requirement already satisfied: pytz>=2020.1 in ./venv/lib/python3.10/site-packages (from pandas) (2022.7.1)\r\n",
      "Requirement already satisfied: six>=1.5 in ./venv/lib/python3.10/site-packages (from python-dateutil>=2.8.1->pandas) (1.16.0)\r\n",
      "\r\n",
      "\u001B[1m[\u001B[0m\u001B[34;49mnotice\u001B[0m\u001B[1;39;49m]\u001B[0m\u001B[39;49m A new release of pip available: \u001B[0m\u001B[31;49m22.3.1\u001B[0m\u001B[39;49m -> \u001B[0m\u001B[32;49m23.0.1\u001B[0m\r\n",
      "\u001B[1m[\u001B[0m\u001B[34;49mnotice\u001B[0m\u001B[1;39;49m]\u001B[0m\u001B[39;49m To update, run: \u001B[0m\u001B[32;49mpip install --upgrade pip\u001B[0m\r\n",
      "Collecting sentencepiece\r\n",
      "  Using cached sentencepiece-0.1.97-cp310-cp310-macosx_11_0_arm64.whl (1.1 MB)\r\n",
      "Installing collected packages: sentencepiece\r\n",
      "Successfully installed sentencepiece-0.1.97\r\n",
      "\r\n",
      "\u001B[1m[\u001B[0m\u001B[34;49mnotice\u001B[0m\u001B[1;39;49m]\u001B[0m\u001B[39;49m A new release of pip available: \u001B[0m\u001B[31;49m22.3.1\u001B[0m\u001B[39;49m -> \u001B[0m\u001B[32;49m23.0.1\u001B[0m\r\n",
      "\u001B[1m[\u001B[0m\u001B[34;49mnotice\u001B[0m\u001B[1;39;49m]\u001B[0m\u001B[39;49m To update, run: \u001B[0m\u001B[32;49mpip install --upgrade pip\u001B[0m\r\n"
     ]
    }
   ],
   "source": [
    "!pip install pandas\n",
    "!pip install sentencepiece\n"
   ],
   "metadata": {
    "collapsed": false
   }
  },
  {
   "cell_type": "code",
   "execution_count": 16,
   "outputs": [],
   "source": [
    "import math\n",
    "import torchtext\n",
    "import torch\n",
    "import torch.nn as nn\n",
    "from torch import Tensor\n",
    "from torch.nn.utils.rnn import pad_sequence\n",
    "from torch.utils.data import DataLoader\n",
    "from collections import Counter\n",
    "from torchtext.vocab import Vocab\n",
    "from torch.nn import TransformerEncoder, TransformerDecoder, TransformerEncoderLayer, TransformerDecoderLayer\n",
    "import io\n",
    "import time\n",
    "import pandas as pd\n",
    "import numpy as np\n",
    "import pickle\n",
    "import sentencepiece as spm\n",
    "torch.manual_seed(0)\n",
    "device = torch.device('cuda' if torch.cuda.is_available() else 'cpu')\n"
   ],
   "metadata": {
    "collapsed": false
   }
  },
  {
   "cell_type": "code",
   "execution_count": 10,
   "outputs": [
    {
     "ename": "NameError",
     "evalue": "name 'IterableWrapper' is not defined",
     "output_type": "error",
     "traceback": [
      "\u001B[0;31m---------------------------------------------------------------------------\u001B[0m",
      "\u001B[0;31mNameError\u001B[0m                                 Traceback (most recent call last)",
      "Cell \u001B[0;32mIn[10], line 38\u001B[0m\n\u001B[1;32m     34\u001B[0m special_symbols \u001B[38;5;241m=\u001B[39m [\u001B[38;5;124m'\u001B[39m\u001B[38;5;124m<unk>\u001B[39m\u001B[38;5;124m'\u001B[39m, \u001B[38;5;124m'\u001B[39m\u001B[38;5;124m<pad>\u001B[39m\u001B[38;5;124m'\u001B[39m, \u001B[38;5;124m'\u001B[39m\u001B[38;5;124m<bos>\u001B[39m\u001B[38;5;124m'\u001B[39m, \u001B[38;5;124m'\u001B[39m\u001B[38;5;124m<eos>\u001B[39m\u001B[38;5;124m'\u001B[39m]\n\u001B[1;32m     36\u001B[0m \u001B[38;5;28;01mfor\u001B[39;00m ln \u001B[38;5;129;01min\u001B[39;00m [SRC_LANGUAGE, TGT_LANGUAGE]:\n\u001B[1;32m     37\u001B[0m     \u001B[38;5;66;03m# Training data Iterator\u001B[39;00m\n\u001B[0;32m---> 38\u001B[0m     train_iter \u001B[38;5;241m=\u001B[39m \u001B[43mMulti30k\u001B[49m\u001B[43m(\u001B[49m\u001B[43msplit\u001B[49m\u001B[38;5;241;43m=\u001B[39;49m\u001B[38;5;124;43m'\u001B[39;49m\u001B[38;5;124;43mtrain\u001B[39;49m\u001B[38;5;124;43m'\u001B[39;49m\u001B[43m,\u001B[49m\u001B[43m \u001B[49m\u001B[43mlanguage_pair\u001B[49m\u001B[38;5;241;43m=\u001B[39;49m\u001B[43m(\u001B[49m\u001B[43mSRC_LANGUAGE\u001B[49m\u001B[43m,\u001B[49m\u001B[43m \u001B[49m\u001B[43mTGT_LANGUAGE\u001B[49m\u001B[43m)\u001B[49m\u001B[43m)\u001B[49m\n\u001B[1;32m     39\u001B[0m     \u001B[38;5;66;03m# Create torchtext's Vocab object\u001B[39;00m\n\u001B[1;32m     40\u001B[0m     vocab_transform[ln] \u001B[38;5;241m=\u001B[39m build_vocab_from_iterator(yield_tokens(train_iter, ln),\n\u001B[1;32m     41\u001B[0m                                                     min_freq\u001B[38;5;241m=\u001B[39m\u001B[38;5;241m1\u001B[39m,\n\u001B[1;32m     42\u001B[0m                                                     specials\u001B[38;5;241m=\u001B[39mspecial_symbols,\n\u001B[1;32m     43\u001B[0m                                                     special_first\u001B[38;5;241m=\u001B[39m\u001B[38;5;28;01mTrue\u001B[39;00m)\n",
      "File \u001B[0;32m~/PycharmProjects/pythonProject8/venv/lib/python3.10/site-packages/torchtext/data/datasets_utils.py:193\u001B[0m, in \u001B[0;36m_create_dataset_directory.<locals>.decorator.<locals>.wrapper\u001B[0;34m(root, *args, **kwargs)\u001B[0m\n\u001B[1;32m    191\u001B[0m \u001B[38;5;28;01mif\u001B[39;00m \u001B[38;5;129;01mnot\u001B[39;00m os\u001B[38;5;241m.\u001B[39mpath\u001B[38;5;241m.\u001B[39mexists(new_root):\n\u001B[1;32m    192\u001B[0m     os\u001B[38;5;241m.\u001B[39mmakedirs(new_root, exist_ok\u001B[38;5;241m=\u001B[39m\u001B[38;5;28;01mTrue\u001B[39;00m)\n\u001B[0;32m--> 193\u001B[0m \u001B[38;5;28;01mreturn\u001B[39;00m \u001B[43mfn\u001B[49m\u001B[43m(\u001B[49m\u001B[43mroot\u001B[49m\u001B[38;5;241;43m=\u001B[39;49m\u001B[43mnew_root\u001B[49m\u001B[43m,\u001B[49m\u001B[43m \u001B[49m\u001B[38;5;241;43m*\u001B[39;49m\u001B[43margs\u001B[49m\u001B[43m,\u001B[49m\u001B[43m \u001B[49m\u001B[38;5;241;43m*\u001B[39;49m\u001B[38;5;241;43m*\u001B[39;49m\u001B[43mkwargs\u001B[49m\u001B[43m)\u001B[49m\n",
      "File \u001B[0;32m~/PycharmProjects/pythonProject8/venv/lib/python3.10/site-packages/torchtext/data/datasets_utils.py:155\u001B[0m, in \u001B[0;36m_wrap_split_argument_with_fn.<locals>.new_fn\u001B[0;34m(root, split, **kwargs)\u001B[0m\n\u001B[1;32m    153\u001B[0m result \u001B[38;5;241m=\u001B[39m []\n\u001B[1;32m    154\u001B[0m \u001B[38;5;28;01mfor\u001B[39;00m item \u001B[38;5;129;01min\u001B[39;00m _check_default_set(split, splits, fn\u001B[38;5;241m.\u001B[39m\u001B[38;5;18m__name__\u001B[39m):\n\u001B[0;32m--> 155\u001B[0m     result\u001B[38;5;241m.\u001B[39mappend(\u001B[43mfn\u001B[49m\u001B[43m(\u001B[49m\u001B[43mroot\u001B[49m\u001B[43m,\u001B[49m\u001B[43m \u001B[49m\u001B[43mitem\u001B[49m\u001B[43m,\u001B[49m\u001B[43m \u001B[49m\u001B[38;5;241;43m*\u001B[39;49m\u001B[38;5;241;43m*\u001B[39;49m\u001B[43mkwargs\u001B[49m\u001B[43m)\u001B[49m)\n\u001B[1;32m    156\u001B[0m \u001B[38;5;28;01mreturn\u001B[39;00m _wrap_datasets(\u001B[38;5;28mtuple\u001B[39m(result), split)\n",
      "File \u001B[0;32m~/PycharmProjects/pythonProject8/venv/lib/python3.10/site-packages/torchtext/datasets/multi30k.py:93\u001B[0m, in \u001B[0;36mMulti30k\u001B[0;34m(root, split, language_pair)\u001B[0m\n\u001B[1;32m     88\u001B[0m \u001B[38;5;28;01mif\u001B[39;00m \u001B[38;5;129;01mnot\u001B[39;00m is_module_available(\u001B[38;5;124m\"\u001B[39m\u001B[38;5;124mtorchdata\u001B[39m\u001B[38;5;124m\"\u001B[39m):\n\u001B[1;32m     89\u001B[0m     \u001B[38;5;28;01mraise\u001B[39;00m \u001B[38;5;167;01mModuleNotFoundError\u001B[39;00m(\n\u001B[1;32m     90\u001B[0m         \u001B[38;5;124m\"\u001B[39m\u001B[38;5;124mPackage `torchdata` not found. Please install following instructions at https://github.com/pytorch/data\u001B[39m\u001B[38;5;124m\"\u001B[39m\n\u001B[1;32m     91\u001B[0m     )\n\u001B[0;32m---> 93\u001B[0m url_dp \u001B[38;5;241m=\u001B[39m \u001B[43mIterableWrapper\u001B[49m([URL[split]])\n\u001B[1;32m     95\u001B[0m cache_compressed_dp \u001B[38;5;241m=\u001B[39m url_dp\u001B[38;5;241m.\u001B[39mon_disk_cache(\n\u001B[1;32m     96\u001B[0m     filepath_fn\u001B[38;5;241m=\u001B[39mpartial(_filepath_fn, root, split),\n\u001B[1;32m     97\u001B[0m     hash_dict\u001B[38;5;241m=\u001B[39m{_filepath_fn(root, split): MD5[split]},\n\u001B[1;32m     98\u001B[0m     hash_type\u001B[38;5;241m=\u001B[39m\u001B[38;5;124m\"\u001B[39m\u001B[38;5;124msha256\u001B[39m\u001B[38;5;124m\"\u001B[39m,\n\u001B[1;32m     99\u001B[0m )\n\u001B[1;32m    100\u001B[0m cache_compressed_dp \u001B[38;5;241m=\u001B[39m HttpReader(cache_compressed_dp)\u001B[38;5;241m.\u001B[39mend_caching(mode\u001B[38;5;241m=\u001B[39m\u001B[38;5;124m\"\u001B[39m\u001B[38;5;124mwb\u001B[39m\u001B[38;5;124m\"\u001B[39m, same_filepath_fn\u001B[38;5;241m=\u001B[39m\u001B[38;5;28;01mTrue\u001B[39;00m)\n",
      "\u001B[0;31mNameError\u001B[0m: name 'IterableWrapper' is not defined"
     ]
    }
   ],
   "source": [],
   "metadata": {
    "collapsed": false
   }
  },
  {
   "cell_type": "code",
   "execution_count": 15,
   "outputs": [],
   "source": [],
   "metadata": {
    "collapsed": false
   }
  },
  {
   "cell_type": "code",
   "execution_count": 16,
   "outputs": [
    {
     "name": "stdout",
     "output_type": "stream",
     "text": [
      "Reading lines...\n",
      "Read 3285 sentence pairs\n"
     ]
    },
    {
     "ename": "IndexError",
     "evalue": "list index out of range",
     "output_type": "error",
     "traceback": [
      "\u001B[0;31m---------------------------------------------------------------------------\u001B[0m",
      "\u001B[0;31mIndexError\u001B[0m                                Traceback (most recent call last)",
      "Cell \u001B[0;32mIn[16], line 16\u001B[0m\n\u001B[1;32m     12\u001B[0m     \u001B[38;5;28mprint\u001B[39m(output_lang\u001B[38;5;241m.\u001B[39mname, output_lang\u001B[38;5;241m.\u001B[39mnum)\n\u001B[1;32m     13\u001B[0m     \u001B[38;5;28;01mreturn\u001B[39;00m input_lang, output_lang, pairs\n\u001B[0;32m---> 16\u001B[0m src, tgt, pairs \u001B[38;5;241m=\u001B[39m \u001B[43mprepareData\u001B[49m\u001B[43m(\u001B[49m\u001B[38;5;124;43m'\u001B[39;49m\u001B[38;5;124;43mdata/yue-eng.txt\u001B[39;49m\u001B[38;5;124;43m'\u001B[39;49m\u001B[43m,\u001B[49m\u001B[43m \u001B[49m\u001B[38;5;124;43m'\u001B[39;49m\u001B[38;5;124;43meng\u001B[39;49m\u001B[38;5;124;43m'\u001B[39;49m\u001B[43m,\u001B[49m\u001B[43m \u001B[49m\u001B[38;5;124;43m'\u001B[39;49m\u001B[38;5;124;43myue\u001B[39;49m\u001B[38;5;124;43m'\u001B[39;49m\u001B[43m)\u001B[49m\n\u001B[1;32m     17\u001B[0m src\u001B[38;5;241m.\u001B[39mtrim()\n\u001B[1;32m     18\u001B[0m tgt\u001B[38;5;241m.\u001B[39mtrim()\n",
      "Cell \u001B[0;32mIn[16], line 4\u001B[0m, in \u001B[0;36mprepareData\u001B[0;34m(path, lang1, lang2, reverse)\u001B[0m\n\u001B[1;32m      2\u001B[0m input_lang, output_lang, pairs \u001B[38;5;241m=\u001B[39m DataReader(path, lang1, lang2, reverse)\n\u001B[1;32m      3\u001B[0m \u001B[38;5;28mprint\u001B[39m(\u001B[38;5;124m\"\u001B[39m\u001B[38;5;124mRead \u001B[39m\u001B[38;5;132;01m%s\u001B[39;00m\u001B[38;5;124m sentence pairs\u001B[39m\u001B[38;5;124m\"\u001B[39m \u001B[38;5;241m%\u001B[39m \u001B[38;5;28mlen\u001B[39m(pairs))\n\u001B[0;32m----> 4\u001B[0m pairs \u001B[38;5;241m=\u001B[39m \u001B[43mfilterPairs\u001B[49m\u001B[43m(\u001B[49m\u001B[43mpairs\u001B[49m\u001B[43m)\u001B[49m\n\u001B[1;32m      5\u001B[0m \u001B[38;5;28mprint\u001B[39m(\u001B[38;5;124m\"\u001B[39m\u001B[38;5;124mTrimmed to \u001B[39m\u001B[38;5;132;01m%s\u001B[39;00m\u001B[38;5;124m sentence pairs\u001B[39m\u001B[38;5;124m\"\u001B[39m \u001B[38;5;241m%\u001B[39m \u001B[38;5;28mlen\u001B[39m(pairs))\n\u001B[1;32m      6\u001B[0m \u001B[38;5;28mprint\u001B[39m(\u001B[38;5;124m\"\u001B[39m\u001B[38;5;124mCounting words...\u001B[39m\u001B[38;5;124m\"\u001B[39m)\n",
      "Cell \u001B[0;32mIn[15], line 12\u001B[0m, in \u001B[0;36mfilterPairs\u001B[0;34m(pairs)\u001B[0m\n\u001B[1;32m     11\u001B[0m \u001B[38;5;28;01mdef\u001B[39;00m \u001B[38;5;21mfilterPairs\u001B[39m(pairs):\n\u001B[0;32m---> 12\u001B[0m     \u001B[38;5;28;01mreturn\u001B[39;00m [pair \u001B[38;5;28;01mfor\u001B[39;00m pair \u001B[38;5;129;01min\u001B[39;00m pairs \u001B[38;5;28;01mif\u001B[39;00m filterPair(pair)]\n",
      "Cell \u001B[0;32mIn[15], line 12\u001B[0m, in \u001B[0;36m<listcomp>\u001B[0;34m(.0)\u001B[0m\n\u001B[1;32m     11\u001B[0m \u001B[38;5;28;01mdef\u001B[39;00m \u001B[38;5;21mfilterPairs\u001B[39m(pairs):\n\u001B[0;32m---> 12\u001B[0m     \u001B[38;5;28;01mreturn\u001B[39;00m [pair \u001B[38;5;28;01mfor\u001B[39;00m pair \u001B[38;5;129;01min\u001B[39;00m pairs \u001B[38;5;28;01mif\u001B[39;00m \u001B[43mfilterPair\u001B[49m\u001B[43m(\u001B[49m\u001B[43mpair\u001B[49m\u001B[43m)\u001B[49m]\n",
      "Cell \u001B[0;32mIn[15], line 9\u001B[0m, in \u001B[0;36mfilterPair\u001B[0;34m(p)\u001B[0m\n\u001B[1;32m      4\u001B[0m \u001B[38;5;28;01mdef\u001B[39;00m \u001B[38;5;21mfilterPair\u001B[39m(p):\n\u001B[1;32m      5\u001B[0m \u001B[38;5;250m    \u001B[39m\u001B[38;5;124;03m'''\u001B[39;00m\n\u001B[1;32m      6\u001B[0m \u001B[38;5;124;03m    Filter to get expected pairs with specific length\u001B[39;00m\n\u001B[1;32m      7\u001B[0m \u001B[38;5;124;03m    '''\u001B[39;00m\n\u001B[1;32m      8\u001B[0m     \u001B[38;5;28;01mreturn\u001B[39;00m MIN_LENGTH \u001B[38;5;241m<\u001B[39m\u001B[38;5;241m=\u001B[39m \u001B[38;5;28mlen\u001B[39m(p[\u001B[38;5;241m0\u001B[39m]\u001B[38;5;241m.\u001B[39msplit(\u001B[38;5;124m'\u001B[39m\u001B[38;5;124m \u001B[39m\u001B[38;5;124m'\u001B[39m)) \u001B[38;5;241m<\u001B[39m\u001B[38;5;241m=\u001B[39m MAX_LENGTH \u001B[38;5;129;01mand\u001B[39;00m \\\n\u001B[0;32m----> 9\u001B[0m         MIN_LENGTH \u001B[38;5;241m<\u001B[39m\u001B[38;5;241m=\u001B[39m \u001B[38;5;28mlen\u001B[39m(\u001B[43mp\u001B[49m\u001B[43m[\u001B[49m\u001B[38;5;241;43m1\u001B[39;49m\u001B[43m]\u001B[49m\u001B[38;5;241m.\u001B[39msplit(\u001B[38;5;124m'\u001B[39m\u001B[38;5;124m \u001B[39m\u001B[38;5;124m'\u001B[39m)) \u001B[38;5;241m<\u001B[39m MAX_LENGTH\n",
      "\u001B[0;31mIndexError\u001B[0m: list index out of range"
     ]
    }
   ],
   "source": [],
   "metadata": {
    "collapsed": false
   }
  },
  {
   "cell_type": "code",
   "execution_count": null,
   "outputs": [],
   "source": [],
   "metadata": {
    "collapsed": false,
    "pycharm": {
     "is_executing": true
    }
   }
  },
  {
   "cell_type": "code",
   "execution_count": 16,
   "outputs": [],
   "source": [],
   "metadata": {
    "collapsed": false
   }
  }
 ],
 "metadata": {
  "kernelspec": {
   "display_name": "Python 3",
   "language": "python",
   "name": "python3"
  },
  "language_info": {
   "codemirror_mode": {
    "name": "ipython",
    "version": 2
   },
   "file_extension": ".py",
   "mimetype": "text/x-python",
   "name": "python",
   "nbconvert_exporter": "python",
   "pygments_lexer": "ipython2",
   "version": "2.7.6"
  }
 },
 "nbformat": 4,
 "nbformat_minor": 0
}
